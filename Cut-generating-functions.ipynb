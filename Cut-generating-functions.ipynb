{
 "cells": [
  {
   "cell_type": "markdown",
   "metadata": {},
   "source": [
    "## Cut-generating functions\n",
    "\n",
    "**Cut-generating functions** are a family of piecewise linear functions for increasing the speed of solving integer optimization. The details of integer optimization can be found in this [book](https://link.springer.com/book/10.1007/978-3-319-11008-0), and the details of the cut-generating function can be found in this [website](https://www.math.ucdavis.edu/~mkoeppe/art/infinite-group/).\n",
    "\n",
    "In general, the project is aimed at finding those functions $\\pi(x)$ in a $d$ dimensional space, which are satisfying the following 4 conditions,\n",
    "\n",
    "1. $\\pi(0) = 0$\n",
    "2. Subadditivity: $\\pi(x) + \\pi(y) \\ge \\pi(x+y), \\forall x,y\\in \\mathbb{R}^d$\n",
    "3. Symmetry: $\\pi(x) + \\pi(f-x) = 1, \\forall x\\in \\mathbb{R}^d$, where $f$ is a constant real number in $\\mathbb{R}^d$.\n",
    "4. Periodicity: $\\pi(x) = \\pi(x+k), \\forall x\\in \\mathbb{R}^d, \\forall k \\in \\mathbb{Z}^d$\n",
    "\n",
    "Those above functions in one dimension have been well developed, using [computer-based methods](http://www.optimization-online.org/DB_FILE/2014/11/4646.pdf). However, in a high-dimensional space, it is hard to figure out. The main difficulty of exploring and verifying cut-generating functions comes from the verification of the subadditivity, $\\pi(x) + \\pi(y) \\ge \\pi(x+y), \\forall x,y\\in \\mathbb{R}^d$, which is an entire verification with heavy computation. For a computer-based method, we may discretize the periodical domain into many polyhedral sub-domains based on separating linearity. Without any data structure, the computation for the above equation could be extremely slow, which is at least $O(n^3 \\cdot h)$, where $n$ is the number of the polyhedral sub-domains in a periodical domain and $h$ is the average time complexity for computing the intersection of a pair of polyhedral sub-domains. \n",
    "\n",
    "Noticing that each Minkowski sum of two given polyhedral sub-domains, $x+y$, only locally intersects with polyhedral sub-domains, [rtree](https://en.wikipedia.org/wiki/R-tree) data structure could be a cheapo index library to organize all sub-domains for preliminary filtering the non-intersected sub-domains and quickly retrieving the intersected sub-domains. With the usage of rtree, the ideal time complexity of computation could be decreased to $O(n^2 log n \\cdot h)$, which is quite efficient if we noticed that the necessary time complexity for traversing is $O(n^2 \\cdot h)$.\n"
   ]
  }
 ],
 "metadata": {
  "kernelspec": {
   "display_name": "Python 3",
   "language": "python",
   "name": "python3"
  },
  "language_info": {
   "codemirror_mode": {
    "name": "ipython",
    "version": 3
   },
   "file_extension": ".py",
   "mimetype": "text/x-python",
   "name": "python",
   "nbconvert_exporter": "python",
   "pygments_lexer": "ipython3",
   "version": "3.9.7"
  }
 },
 "nbformat": 4,
 "nbformat_minor": 4
}
