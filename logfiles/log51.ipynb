{
 "cells": [
  {
   "cell_type": "markdown",
   "metadata": {},
   "source": [
    "Based on this testing records https://github.com/DRKWang/cutgeneratingfunctions_new/blob/main/test_for_facets_and_generating_rays_based_methods.ipynb, in terms of time, the generating-rays-based method has significantly outperformed the facets-based method. \n",
    "However, according to test 4 in the above records, the LP-solver may have some numerical issues and it may lead to some inaccurate determination.\n",
    "\n",
    "In my two cents, since LP-solver only takes a little time and the solution for the linear programming can be easily verified, we may use the LP-solver first to try to get a solution, if it fails or it only gives zero solution, then we use the facets-based method instead; otherwise, if the solution is non-zero, we may verify it correctnesss, and if the solution is correct, then we do not need the facets-based method. This mixed-method is better than the pure facets-based method especially in the case that the fan is pointed, because in that case, it is really difficult to compute common intersection for all cones with keeping in analytical status."
   ]
  },
  {
   "cell_type": "markdown",
   "metadata": {},
   "source": [
    "# Reference \n",
    "\n",
    "- Name suggestions for git\n",
    "\n",
    "Origin - Remote repositories stored on internally hosted GitLab instance\n",
    "\n",
    "Master - The current release of the application, tagged with a release number such as v1, v2 etc. This refered to the major version number. Code changes that were signed off on the develop branch would be released periodically as minor version releases, making the tag something like v2.3, v3.1 etc. Major version releases occurred far less often and were generally scheduled a long time in advance, as apposed to maybe a 2 or 3 week notice of a minor version release date to the team.\n",
    "\n",
    "Develop - Staging environment for testing code that will be released with next push to the master branch. These releases would add a minor version number to the tag on the master branch, unless there were significant or breaking changes being merged. Release dates were scheduled and therefore if your branch was not merged and tested on develop by a cut off date it would have to wait for the next release.\n",
    "\n",
    "Feature Branches - Most work was carried out in individual feature branches which, as the name suggests, introduced a new feature or process to the application. It was always created from the master branch, so that they would all be starting from the current released state of the application. These features were then queued under a release date tag, and a cut off date for merges to develop was created. The whole of the develop branch would then be merged to master on the release date.\n",
    "\n",
    "Hot-fix Branches - Again, as the name suggests, a hot fix branch was used to rectify a bug within the application. These were the exception to the release date strategy. A branch was created from master, the bug fixed, and then merged to develop. The branch would then be merged directly to master rather than from the develop branch, as that would involve cherry picking to ensure that only the bug fix was merged."
   ]
  },
  {
   "cell_type": "markdown",
   "metadata": {},
   "source": [
    "try-except-python\n",
    "https://stackoverflow.com/questions/19593136/python-try-except"
   ]
  },
  {
   "cell_type": "code",
   "execution_count": null,
   "metadata": {},
   "outputs": [],
   "source": []
  }
 ],
 "metadata": {
  "kernelspec": {
   "display_name": "SageMath 9.5.beta0",
   "language": "sage",
   "name": "sagemath"
  },
  "language_info": {
   "codemirror_mode": {
    "name": "ipython",
    "version": 3
   },
   "file_extension": ".py",
   "mimetype": "text/x-python",
   "name": "python",
   "nbconvert_exporter": "python",
   "pygments_lexer": "ipython3",
   "version": "3.9.7"
  }
 },
 "nbformat": 4,
 "nbformat_minor": 4
}
