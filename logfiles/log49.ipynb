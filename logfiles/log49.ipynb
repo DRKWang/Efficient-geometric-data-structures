{
 "cells": [
  {
   "cell_type": "markdown",
   "metadata": {
    "id": "FWYnYGv41u2_"
   },
   "source": [
    "## Facets-based method \n",
    "\n",
    "As is enlightened by your idea for considering the double descriptions of cones, facets, and generating rays, we may have a facets-based method to find the proper normal vector of the separating hyperplane for a pointed fan.\n",
    "\n",
    "**Observation:**\n",
    "\n",
    "For a cone, a ray is in the (interior or boundary) of its polar cone, if and only if, the ray can induce (an interior or a boundary) separating hyperplane, whose normal vector is the ray, for this cone.\n",
    "\n",
    "Note that the polar cone of cone $C$ is defined by the negative dual cone of cone $C$, i.e.\n",
    "\n",
    "the polar cone of cone $C$ = $\\{y | y\\cdot x \\le 0, \\forall x \\in C\\}$\n",
    "\n",
    "Thus, to figure out the separating hyperplane for a fan, the polar cones of cones in this fan can provide help.\n",
    "\n",
    "**Observation:**\n",
    "\n",
    "For a fan, a ray is in the interior points of the common intersection of all polar cones of the fan, if and only if, the ray can induce an interior separating hyperplane for the fan.\n",
    "\n",
    "**Proof**\n",
    "\n",
    "A ray is in the interior points of the common intersection of all polar cones,\n",
    "\n",
    "$\\iff$ it must be in the interior points of each polar cone,\n",
    "\n",
    "$\\iff$ it must induce the same interior separating hyperplane for each cone in the fan,\n",
    "\n",
    "$\\iff$ it must induce an interior separating hyperplane for the fan.\n",
    "\n",
    "We can have a better understanding of the location of the normal vector of separating hyperplane for a fan. Meanwhile, we can also use it to determine whether a fan is a pointed fan or not."
   ]
  },
  {
   "cell_type": "markdown",
   "metadata": {
    "id": "uQzD0ACM9H-3"
   },
   "source": [
    "Therefore, to find the normal vector, we may try to compute the common intersection of all polar cones. However, to compute the intersection of cones, it is still required to use linear optimization. In some sense, we can not get rid of linear optimization."
   ]
  },
  {
   "cell_type": "markdown",
   "metadata": {},
   "source": [
    "As is suggested, for a cone, we may have certain compact way to find a normal vector of a separating hyperplane for the cone from computing the nagitive mean value of the normal vectors of the facets of the cone, which has the same understanding as using the mean value of rays of the polar cone. But it would be difficulty to deal with intersection for multiple cones."
   ]
  },
  {
   "cell_type": "markdown",
   "metadata": {},
   "source": [
    "## Rays-based method\n",
    "\n",
    "Based on the above understanding, we may improve the rays-based method last week.\n",
    "\n",
    "**Improved:**\n",
    "\n",
    "For a non-empty fan in $d$ dimension, supposing that the normal vector of the separating hyperplane is $x$ and 1-norm vectors of the generating rays of all cones in the fan are $r_i, (i\\in A) $, (1-norm is used for numerical stability, we may also use other norms), \n",
    "\n",
    "then we may have:\n",
    "\n",
    "$x \\cdot r_i \\le 0$\n",
    "\n",
    "with a set of boundary constraints for $x$,\n",
    "\n",
    "$||x_{\\infty}||\\le 1$\n",
    "\n",
    "i.e.\n",
    "\n",
    "$-1\\le x_1 \\le 1$, $-1\\le x_2 \\le 1$, ... , $-1\\le x_d \\le 1$.\n",
    "\n",
    "Besides, we still need to make the $x$ a ray, instead of the origin.\n",
    "\n",
    "Based on the above observation, the solution for the following constraints system is nothing but a polytope, which is the intersection of a cone and the unit box. \n",
    "\n",
    "Because $x$ must be located in the polar cone of any cone in the fan, any interior point in the polar cone must have a positive inner product with $x$. Thus, we may take the first cone and compute the an interior point $p$, based the mean value of the normal vector of the facets of the cone. And with maximizing the inner product to let $x$ get rid of the origin.\n",
    "\n",
    "Thus, we would have the following linear optimization:\n",
    "\n",
    "max.: $x\\cdot p$\n",
    "\n",
    "$x \\cdot r_i \\le 0$\n",
    "\n",
    "$||x_{\\infty}||\\le 1$\n",
    "\n",
    "Note that the polar cone could be a half space if the cone is a ray, but we still could deal with it case by case."
   ]
  },
  {
   "cell_type": "markdown",
   "metadata": {},
   "source": [
    "We may also find the proper normal vector, based on the linear optimization with adding a set of new variable.\n",
    "\n",
    "max. :$B$\n",
    "\n",
    "$-x \\cdot r_i \\ge b_i$\n",
    "\n",
    "$||x_{\\infty}||\\le 1$\n",
    "\n",
    "$1\\ge b_i\\ge B \\ge 0$\n",
    "\n",
    "vars: $x, b_i, B$"
   ]
  },
  {
   "cell_type": "markdown",
   "metadata": {
    "id": "YmzXTxAjiQIQ"
   },
   "source": [
    "###### References\n",
    "\n",
    "- Cmake tutorial\n",
    "https://www.slideshare.net/oliora/introduction-to-cmake-in-30-minutes\n",
    "\n",
    "- Debugging a C++ (CMake) Project in Vscode\n",
    " https://www.youtube.com/watch?v=Rfj40xW9q6w\n",
    "\n",
    " - LD_LIBRARY_PATH\n",
    " https://www.hpc.dtu.dk/?page_id=1180\n",
    "\n",
    " - how to test libspatialindex\n",
    "\n",
    " https://github.com/libspatialindex/libspatialindex/issues/218\n",
    "\n",
    " - the meaning of the flags of clang++\n",
    "\n",
    " https://blog.csdn.net/qqqq245425070/article/details/84204088?spm=1001.2101.3001.6650.4&utm_medium=distribute.pc_relevant.none-task-blog-2%7Edefault%7ECTRLIST%7Edefault-4.no_search_link&depth_1-utm_source=distribute.pc_relevant.none-task-blog-2%7Edefault%7ECTRLIST%7Edefault-4.no_search_link\n",
    "\n",
    " - .o vs .so vs .dylib\n",
    " "
   ]
  },
  {
   "cell_type": "markdown",
   "metadata": {},
   "source": []
  }
 ],
 "metadata": {
  "colab": {
   "collapsed_sections": [],
   "name": "log49.ipynb",
   "provenance": []
  },
  "kernelspec": {
   "display_name": "Python 3",
   "language": "python",
   "name": "python3"
  },
  "language_info": {
   "codemirror_mode": {
    "name": "ipython",
    "version": 3
   },
   "file_extension": ".py",
   "mimetype": "text/x-python",
   "name": "python",
   "nbconvert_exporter": "python",
   "pygments_lexer": "ipython3",
   "version": "3.9.7"
  }
 },
 "nbformat": 4,
 "nbformat_minor": 1
}
