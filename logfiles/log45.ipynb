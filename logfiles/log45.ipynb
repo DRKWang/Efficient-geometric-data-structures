{
 "cells": [
  {
   "cell_type": "markdown",
   "metadata": {},
   "source": [
    "### `rtree.intersection()`\n",
    "\n",
    "The return object of this can be either a set of data without any data structure or a rtree class, which is reorganized by `_static_constuction` method."
   ]
  },
  {
   "cell_type": "markdown",
   "metadata": {},
   "source": [
    "### Static construction\n",
    "For the static construction, we may build the rtree by 3 ways, top-down, bottom-up or hybrid. \n",
    "\n",
    "Supposedly, there are $n$ boxes in $k$ dimension for construction.\n",
    "\n",
    "##### Top_down\n",
    "The idea of top-down should be made by recursive operations, which means the parent tree will be built after their children's trees were built. My expectation will be something like a $k-D tree$. Concretely, one way to do this is as follows:\n",
    "\n",
    "Separate the whole boxes into 2 subsets, equivalently in terms of numbers, based on their X-coordinate. And take those 2 subsets as the data for building the left sub-rtree and right sub-rtree.\n",
    "Cyclically switch the criteria from X-coordinate to X-coordinate, to Z-coordinate to, ... X-coordinate, with separating the subsets smaller and smaller until the number of subsets equal 1. For this case, the whole complexity of it will be $nlog(n)+2* n/2 log(n/2) + 4* n/2 log(n/4) + ... + n*1 log(1) <= n log(n) * log(n) $\n",
    "\n",
    "##### Bottom_up\n",
    "For the bottom-up, we may use the greedy strategy to do the local optimization on each step. We can always merge two boxes based on some criteria, like merging the two boxes that have minimal 1-norm distance. And replace the 2 boxes with merged box, so that the size of the input will be decreased by 1, (now the number of boxes will be $n-1$). Thus, after $n-1$ steps, the rtree will be built completely.\n",
    "\n",
    "The whole complexity will be at least $n^2$, since we will compute the distances of all pairs at least.\n",
    "\n",
    "\n",
    "##### hybrid \n",
    "For the hybrid one, we can build the rtree partially by top-down and partially by bottom-up in certain steps. But, how to combining them adaptively is still a hard problem for me. I would like to implement the first two before thinking about the third one."
   ]
  },
  {
   "cell_type": "markdown",
   "metadata": {},
   "source": [
    "### box vs datum vs node"
   ]
  },
  {
   "cell_type": "markdown",
   "metadata": {},
   "source": [
    "To make it clear,\n",
    "\n",
    "`box` only refers to a pure geometric object, which does not contain any other information.\n",
    "`datum` refers to a combined object containing a `box` and a `information`, i.e. `datum = box + information`.\n",
    "`node` refers to a paricle of `rtree`, which contains `left_child`, `right_child`, `datum`."
   ]
  },
  {
   "cell_type": "code",
   "execution_count": null,
   "metadata": {},
   "outputs": [],
   "source": []
  }
 ],
 "metadata": {
  "kernelspec": {
   "display_name": "SageMath 9.5.beta0",
   "language": "sage",
   "name": "sagemath"
  },
  "language_info": {
   "codemirror_mode": {
    "name": "ipython",
    "version": 3
   },
   "file_extension": ".py",
   "mimetype": "text/x-python",
   "name": "python",
   "nbconvert_exporter": "python",
   "pygments_lexer": "ipython3",
   "version": "3.9.7"
  }
 },
 "nbformat": 4,
 "nbformat_minor": 4
}
